{
 "cells": [
  {
   "cell_type": "markdown",
   "metadata": {},
   "source": [
    "# Unit 2: Experiment Tracking Homework"
   ]
  },
  {
   "cell_type": "code",
   "execution_count": 11,
   "metadata": {},
   "outputs": [],
   "source": [
    "# imports \n",
    "import os"
   ]
  },
  {
   "cell_type": "markdown",
   "metadata": {},
   "source": [
    "## Q1. Install MLflow"
   ]
  },
  {
   "cell_type": "code",
   "execution_count": 1,
   "metadata": {},
   "outputs": [
    {
     "name": "stdout",
     "output_type": "stream",
     "text": [
      "MLflow version: 2.13.0\n"
     ]
    }
   ],
   "source": [
    "import mlflow\n",
    "print(f\"MLflow version: {mlflow.__version__}\")"
   ]
  },
  {
   "cell_type": "markdown",
   "metadata": {},
   "source": [
    "## Q2. Download and preprocess the data"
   ]
  },
  {
   "cell_type": "code",
   "execution_count": 2,
   "metadata": {},
   "outputs": [
    {
     "name": "stdout",
     "output_type": "stream",
     "text": [
      "homework-02.ipynb  preprocess_data.py\n"
     ]
    }
   ],
   "source": [
    "# Copy preprocess_data.py script to homework folder\n",
    "!cp  ../../cohorts/2024/02-experiment-tracking/homework/preprocess_data.py preprocess_data.py\n",
    "!ls"
   ]
  },
  {
   "cell_type": "code",
   "execution_count": 3,
   "metadata": {},
   "outputs": [],
   "source": [
    "# Create taxi data folder to preprocess\n",
    "!mkdir -p taxi_data_folder"
   ]
  },
  {
   "cell_type": "code",
   "execution_count": 9,
   "metadata": {},
   "outputs": [
    {
     "name": "stdout",
     "output_type": "stream",
     "text": [
      "--2024-05-25 12:59:30--  https://d37ci6vzurychx.cloudfront.net/trip-data/green_tripdata_2023-01.parquet\n",
      "Resolviendo d37ci6vzurychx.cloudfront.net (d37ci6vzurychx.cloudfront.net)... 99.84.245.157, 99.84.245.193, 99.84.245.9, ...\n",
      "Conectando con d37ci6vzurychx.cloudfront.net (d37ci6vzurychx.cloudfront.net)[99.84.245.157]:443... conectado.\n",
      "Petición HTTP enviada, esperando respuesta... 200 OK\n",
      "Longitud: 1427002 (1,4M) [binary/octet-stream]\n",
      "Guardando como: ‘taxi_data_folder/green_tripdata_2023-01.parquet’\n",
      "\n",
      "green_tripdata_2023 100%[===================>]   1,36M  1,65MB/s    en 0,8s    \n",
      "\n",
      "2024-05-25 12:59:31 (1,65 MB/s) - ‘taxi_data_folder/green_tripdata_2023-01.parquet’ guardado [1427002/1427002]\n",
      "\n",
      "--2024-05-25 12:59:32--  https://d37ci6vzurychx.cloudfront.net/trip-data/green_tripdata_2023-02.parquet\n",
      "Resolviendo d37ci6vzurychx.cloudfront.net (d37ci6vzurychx.cloudfront.net)... 99.84.245.193, 99.84.245.141, 99.84.245.9, ...\n",
      "Conectando con d37ci6vzurychx.cloudfront.net (d37ci6vzurychx.cloudfront.net)[99.84.245.193]:443... conectado.\n",
      "Petición HTTP enviada, esperando respuesta... 200 OK\n",
      "Longitud: 1533740 (1,5M) [binary/octet-stream]\n",
      "Guardando como: ‘taxi_data_folder/green_tripdata_2023-02.parquet’\n",
      "\n",
      "green_tripdata_2023 100%[===================>]   1,46M  1,84MB/s    en 0,8s    \n",
      "\n",
      "2024-05-25 12:59:33 (1,84 MB/s) - ‘taxi_data_folder/green_tripdata_2023-02.parquet’ guardado [1533740/1533740]\n",
      "\n",
      "--2024-05-25 12:59:34--  https://d37ci6vzurychx.cloudfront.net/trip-data/green_tripdata_2023-03.parquet\n",
      "Resolviendo d37ci6vzurychx.cloudfront.net (d37ci6vzurychx.cloudfront.net)... 99.84.245.9, 99.84.245.157, 99.84.245.141, ...\n",
      "Conectando con d37ci6vzurychx.cloudfront.net (d37ci6vzurychx.cloudfront.net)[99.84.245.9]:443... conectado.\n",
      "Petición HTTP enviada, esperando respuesta... 200 OK\n",
      "Longitud: 1730999 (1,7M) [binary/octet-stream]\n",
      "Guardando como: ‘taxi_data_folder/green_tripdata_2023-03.parquet’\n",
      "\n",
      "green_tripdata_2023 100%[===================>]   1,65M  1,94MB/s    en 0,8s    \n",
      "\n",
      "2024-05-25 12:59:35 (1,94 MB/s) - ‘taxi_data_folder/green_tripdata_2023-03.parquet’ guardado [1730999/1730999]\n",
      "\n"
     ]
    }
   ],
   "source": [
    "# Download taxi data\n",
    "!wget -P taxi_data_folder/ https://d37ci6vzurychx.cloudfront.net/trip-data/green_tripdata_2023-01.parquet\n",
    "!wget -P taxi_data_folder/ https://d37ci6vzurychx.cloudfront.net/trip-data/green_tripdata_2023-02.parquet\n",
    "!wget -P taxi_data_folder/ https://d37ci6vzurychx.cloudfront.net/trip-data/green_tripdata_2023-03.parquet"
   ]
  },
  {
   "cell_type": "code",
   "execution_count": 10,
   "metadata": {},
   "outputs": [],
   "source": [
    "# Run preprocess_data.py\n",
    "!python3 preprocess_data.py --raw_data_path taxi_data_folder/ --dest_path ./processed_data "
   ]
  },
  {
   "cell_type": "code",
   "execution_count": 13,
   "metadata": {},
   "outputs": [
    {
     "name": "stdout",
     "output_type": "stream",
     "text": [
      "Number of files saved to 'processed_data' folder: 4\n"
     ]
    }
   ],
   "source": [
    "processed_data_folder = 'processed_data'\n",
    "print(f\"Number of files saved to 'processed_data' folder: {len(os.listdir(processed_data_folder))}\")\n"
   ]
  },
  {
   "cell_type": "markdown",
   "metadata": {},
   "source": [
    "## Q3. Train a model with autolog"
   ]
  },
  {
   "cell_type": "code",
   "execution_count": 14,
   "metadata": {},
   "outputs": [
    {
     "name": "stdout",
     "output_type": "stream",
     "text": [
      "homework-02.ipynb   processed_data    train.py\n",
      "preprocess_data.py  taxi_data_folder\n"
     ]
    }
   ],
   "source": [
    "# Copy train.py script into homework folder\n",
    "!cp ../../cohorts/2024/02-experiment-tracking/homework/train.py train.py\n",
    "!ls"
   ]
  },
  {
   "cell_type": "markdown",
   "metadata": {},
   "source": [
    "Edit `train.py` script to add MLflow tracking"
   ]
  },
  {
   "cell_type": "code",
   "execution_count": 22,
   "metadata": {},
   "outputs": [
    {
     "name": "stdout",
     "output_type": "stream",
     "text": [
      "2024/05/25 14:21:08 WARNING mlflow.sklearn: Failed to log training dataset information to MLflow Tracking. Reason: 'numpy.ndarray' object has no attribute 'toarray'\n",
      "2024/05/25 14:21:27 WARNING mlflow.utils.autologging_utils: MLflow autologging encountered a warning: \"/home/dpaez/.cache/pypoetry/virtualenvs/mlops-zoomcamp-4tChsL49-py3.9/lib/python3.9/site-packages/_distutils_hack/__init__.py:26: UserWarning: Setuptools is replacing distutils.\"\n",
      "/home/dpaez/.cache/pypoetry/virtualenvs/mlops-zoomcamp-4tChsL49-py3.9/lib/python3.9/site-packages/sklearn/metrics/_regression.py:483: FutureWarning: 'squared' is deprecated in version 1.4 and will be removed in 1.6. To calculate the root mean squared error, use the function'root_mean_squared_error'.\n",
      "  warnings.warn(\n"
     ]
    }
   ],
   "source": [
    "# Run train script with mlflow changes\n",
    "!python3 train.py --data_path $processed_data_folder"
   ]
  },
  {
   "cell_type": "code",
   "execution_count": 23,
   "metadata": {},
   "outputs": [
    {
     "name": "stdout",
     "output_type": "stream",
     "text": [
      "[2024-05-25 14:22:09 -0300] [11698] [INFO] Starting gunicorn 22.0.0\n",
      "[2024-05-25 14:22:09 -0300] [11698] [INFO] Listening at: http://127.0.0.1:5000 (11698)\n",
      "[2024-05-25 14:22:09 -0300] [11698] [INFO] Using worker: sync\n",
      "[2024-05-25 14:22:09 -0300] [11699] [INFO] Booting worker with pid: 11699\n",
      "[2024-05-25 14:22:09 -0300] [11700] [INFO] Booting worker with pid: 11700\n",
      "[2024-05-25 14:22:09 -0300] [11701] [INFO] Booting worker with pid: 11701\n",
      "[2024-05-25 14:22:09 -0300] [11702] [INFO] Booting worker with pid: 11702\n",
      "^C\n",
      "[2024-05-25 14:24:01 -0300] [11698] [INFO] Handling signal: int\n",
      "[2024-05-25 14:24:02 -0300] [11699] [INFO] Worker exiting (pid: 11699)\n",
      "[2024-05-25 14:24:02 -0300] [11700] [INFO] Worker exiting (pid: 11700)\n",
      "[2024-05-25 14:24:02 -0300] [11701] [INFO] Worker exiting (pid: 11701)\n",
      "[2024-05-25 14:24:02 -0300] [11702] [INFO] Worker exiting (pid: 11702)\n"
     ]
    }
   ],
   "source": [
    "# Check in mlflow UI if experiment was tracked\n",
    "!mlflow ui --backend-store-uri sqlite:///mlflow.db"
   ]
  },
  {
   "cell_type": "markdown",
   "metadata": {},
   "source": [
    "Min samples split parameter is set to 2"
   ]
  },
  {
   "cell_type": "markdown",
   "metadata": {},
   "source": [
    "## Q4. Launch the tracking server locally"
   ]
  },
  {
   "cell_type": "code",
   "execution_count": 25,
   "metadata": {},
   "outputs": [],
   "source": [
    "# Create artifacts folder\n",
    "!mkdir -p artifacts/ "
   ]
  },
  {
   "cell_type": "markdown",
   "metadata": {},
   "source": [
    "Code to run server with backend database and folder to store artifacts (Run from `02-experiment-tracking/homework/` directory):\n",
    "\n",
    "```bash\n",
    "mlflow server --backend-store-uri sqlite:///mlflow.db --default-artifact-root ./artifacts \n",
    "```"
   ]
  },
  {
   "cell_type": "markdown",
   "metadata": {},
   "source": [
    "## Q5. Tune model hyperparameters"
   ]
  },
  {
   "cell_type": "code",
   "execution_count": 26,
   "metadata": {},
   "outputs": [
    {
     "name": "stdout",
     "output_type": "stream",
     "text": [
      "artifacts\t   hpo.py     mlruns\t\t  processed_data    train.py\n",
      "homework-02.ipynb  mlflow.db  preprocess_data.py  taxi_data_folder\n"
     ]
    }
   ],
   "source": [
    "# Copy opt.py script\n",
    "!cp ../../cohorts/2024/02-experiment-tracking/homework/hpo.py hpo.py\n",
    "!ls"
   ]
  },
  {
   "cell_type": "code",
   "execution_count": 36,
   "metadata": {},
   "outputs": [
    {
     "name": "stdout",
     "output_type": "stream",
     "text": [
      "2024/05/25 18:40:42 INFO mlflow.tracking.fluent: Experiment with name 'random-forest-hyperopt' does not exist. Creating a new experiment.\n",
      "  0%|                                    | 0/15 [00:00<?, ?trial/s, best loss=?]/home/dpaez/.cache/pypoetry/virtualenvs/mlops-zoomcamp-4tChsL49-py3.9/lib/python3.9/site-packages/sklearn/metrics/_regression.py:483: FutureWarning: 'squared' is deprecated in version 1.4 and will be removed in 1.6. To calculate the root mean squared error, use the function'root_mean_squared_error'.\n",
      "  warnings.warn(\n",
      "\n",
      "  7%|▋          | 1/15 [00:16<03:54, 16.76s/trial, best loss: 5.370086069268862]/home/dpaez/.cache/pypoetry/virtualenvs/mlops-zoomcamp-4tChsL49-py3.9/lib/python3.9/site-packages/sklearn/metrics/_regression.py:483: FutureWarning: 'squared' is deprecated in version 1.4 and will be removed in 1.6. To calculate the root mean squared error, use the function'root_mean_squared_error'.\n",
      "  warnings.warn(\n",
      "\n",
      " 13%|█▍         | 2/15 [00:17<01:37,  7.51s/trial, best loss: 5.370086069268862]/home/dpaez/.cache/pypoetry/virtualenvs/mlops-zoomcamp-4tChsL49-py3.9/lib/python3.9/site-packages/sklearn/metrics/_regression.py:483: FutureWarning: 'squared' is deprecated in version 1.4 and will be removed in 1.6. To calculate the root mean squared error, use the function'root_mean_squared_error'.\n",
      "  warnings.warn(\n",
      "\n",
      " 20%|██▏        | 3/15 [00:19<00:56,  4.72s/trial, best loss: 5.370086069268862]/home/dpaez/.cache/pypoetry/virtualenvs/mlops-zoomcamp-4tChsL49-py3.9/lib/python3.9/site-packages/sklearn/metrics/_regression.py:483: FutureWarning: 'squared' is deprecated in version 1.4 and will be removed in 1.6. To calculate the root mean squared error, use the function'root_mean_squared_error'.\n",
      "  warnings.warn(\n",
      "\n",
      " 27%|██▉        | 4/15 [00:29<01:18,  7.11s/trial, best loss: 5.357490752366866]/home/dpaez/.cache/pypoetry/virtualenvs/mlops-zoomcamp-4tChsL49-py3.9/lib/python3.9/site-packages/sklearn/metrics/_regression.py:483: FutureWarning: 'squared' is deprecated in version 1.4 and will be removed in 1.6. To calculate the root mean squared error, use the function'root_mean_squared_error'.\n",
      "  warnings.warn(\n",
      "\n",
      " 33%|███▋       | 5/15 [00:35<01:05,  6.55s/trial, best loss: 5.357490752366866]/home/dpaez/.cache/pypoetry/virtualenvs/mlops-zoomcamp-4tChsL49-py3.9/lib/python3.9/site-packages/sklearn/metrics/_regression.py:483: FutureWarning: 'squared' is deprecated in version 1.4 and will be removed in 1.6. To calculate the root mean squared error, use the function'root_mean_squared_error'.\n",
      "  warnings.warn(\n",
      "\n",
      " 40%|████▍      | 6/15 [00:53<01:35, 10.56s/trial, best loss: 5.354695072530291]/home/dpaez/.cache/pypoetry/virtualenvs/mlops-zoomcamp-4tChsL49-py3.9/lib/python3.9/site-packages/sklearn/metrics/_regression.py:483: FutureWarning: 'squared' is deprecated in version 1.4 and will be removed in 1.6. To calculate the root mean squared error, use the function'root_mean_squared_error'.\n",
      "  warnings.warn(\n",
      "\n",
      " 47%|█████▏     | 7/15 [01:12<01:45, 13.16s/trial, best loss: 5.354695072530291]/home/dpaez/.cache/pypoetry/virtualenvs/mlops-zoomcamp-4tChsL49-py3.9/lib/python3.9/site-packages/sklearn/metrics/_regression.py:483: FutureWarning: 'squared' is deprecated in version 1.4 and will be removed in 1.6. To calculate the root mean squared error, use the function'root_mean_squared_error'.\n",
      "  warnings.warn(\n",
      "\n",
      " 53%|█████▊     | 8/15 [01:14<01:07,  9.68s/trial, best loss: 5.354695072530291]/home/dpaez/.cache/pypoetry/virtualenvs/mlops-zoomcamp-4tChsL49-py3.9/lib/python3.9/site-packages/sklearn/metrics/_regression.py:483: FutureWarning: 'squared' is deprecated in version 1.4 and will be removed in 1.6. To calculate the root mean squared error, use the function'root_mean_squared_error'.\n",
      "  warnings.warn(\n",
      "\n",
      " 60%|██████▌    | 9/15 [01:26<01:01, 10.30s/trial, best loss: 5.354695072530291]/home/dpaez/.cache/pypoetry/virtualenvs/mlops-zoomcamp-4tChsL49-py3.9/lib/python3.9/site-packages/sklearn/metrics/_regression.py:483: FutureWarning: 'squared' is deprecated in version 1.4 and will be removed in 1.6. To calculate the root mean squared error, use the function'root_mean_squared_error'.\n",
      "  warnings.warn(\n",
      "\n",
      " 67%|██████▋   | 10/15 [01:35<00:50, 10.05s/trial, best loss: 5.354695072530291]/home/dpaez/.cache/pypoetry/virtualenvs/mlops-zoomcamp-4tChsL49-py3.9/lib/python3.9/site-packages/sklearn/metrics/_regression.py:483: FutureWarning: 'squared' is deprecated in version 1.4 and will be removed in 1.6. To calculate the root mean squared error, use the function'root_mean_squared_error'.\n",
      "  warnings.warn(\n",
      "\n",
      " 73%|███████▎  | 11/15 [01:43<00:36,  9.19s/trial, best loss: 5.335419588556921]/home/dpaez/.cache/pypoetry/virtualenvs/mlops-zoomcamp-4tChsL49-py3.9/lib/python3.9/site-packages/sklearn/metrics/_regression.py:483: FutureWarning: 'squared' is deprecated in version 1.4 and will be removed in 1.6. To calculate the root mean squared error, use the function'root_mean_squared_error'.\n",
      "  warnings.warn(\n",
      "\n",
      " 80%|████████  | 12/15 [01:49<00:24,  8.27s/trial, best loss: 5.335419588556921]/home/dpaez/.cache/pypoetry/virtualenvs/mlops-zoomcamp-4tChsL49-py3.9/lib/python3.9/site-packages/sklearn/metrics/_regression.py:483: FutureWarning: 'squared' is deprecated in version 1.4 and will be removed in 1.6. To calculate the root mean squared error, use the function'root_mean_squared_error'.\n",
      "  warnings.warn(\n",
      "\n",
      " 87%|████████▋ | 13/15 [01:51<00:12,  6.47s/trial, best loss: 5.335419588556921]/home/dpaez/.cache/pypoetry/virtualenvs/mlops-zoomcamp-4tChsL49-py3.9/lib/python3.9/site-packages/sklearn/metrics/_regression.py:483: FutureWarning: 'squared' is deprecated in version 1.4 and will be removed in 1.6. To calculate the root mean squared error, use the function'root_mean_squared_error'.\n",
      "  warnings.warn(\n",
      "\n",
      " 93%|█████████▎| 14/15 [01:58<00:06,  6.57s/trial, best loss: 5.335419588556921]/home/dpaez/.cache/pypoetry/virtualenvs/mlops-zoomcamp-4tChsL49-py3.9/lib/python3.9/site-packages/sklearn/metrics/_regression.py:483: FutureWarning: 'squared' is deprecated in version 1.4 and will be removed in 1.6. To calculate the root mean squared error, use the function'root_mean_squared_error'.\n",
      "  warnings.warn(\n",
      "\n",
      "100%|██████████| 15/15 [02:08<00:00,  8.58s/trial, best loss: 5.335419588556921]\n"
     ]
    }
   ],
   "source": [
    "# First, make sure that mlflow server is running and then, run hpo.py\n",
    "!python3 hpo.py --data_path $processed_data_folder"
   ]
  },
  {
   "cell_type": "markdown",
   "metadata": {},
   "source": [
    "Best validation RMSE for this run is: 5.335"
   ]
  },
  {
   "cell_type": "markdown",
   "metadata": {},
   "source": [
    "## Q6. Promote the best model to the model registry"
   ]
  },
  {
   "cell_type": "code",
   "execution_count": 28,
   "metadata": {},
   "outputs": [
    {
     "name": "stdout",
     "output_type": "stream",
     "text": [
      "artifacts\t   mlflow.db\t       processed_data\t  train.py\n",
      "homework-02.ipynb  mlruns\t       register_model.py\n",
      "hpo.py\t\t   preprocess_data.py  taxi_data_folder\n"
     ]
    }
   ],
   "source": [
    "# copy register_model.py script\n",
    "!cp ../../cohorts/2024/02-experiment-tracking/homework/register_model.py register_model.py\n",
    "!ls"
   ]
  },
  {
   "cell_type": "markdown",
   "metadata": {},
   "source": [
    "These cells corresponds to code testing done in order to change `register_model.py` script correctly"
   ]
  },
  {
   "cell_type": "code",
   "execution_count": 45,
   "metadata": {},
   "outputs": [],
   "source": [
    "from mlflow import MlflowClient\n",
    "from mlflow.entities import ViewType\n",
    "mlflow.set_tracking_uri(\"http://127.0.0.1:5000\")"
   ]
  },
  {
   "cell_type": "code",
   "execution_count": 38,
   "metadata": {},
   "outputs": [],
   "source": [
    "client = MlflowClient()\n",
    "experiment = client.get_experiment_by_name(\"random-forest-hyperopt\")"
   ]
  },
  {
   "cell_type": "code",
   "execution_count": 44,
   "metadata": {},
   "outputs": [
    {
     "name": "stdout",
     "output_type": "stream",
     "text": [
      "'_experiment_id' -> '2'\n",
      "'_name' -> 'random-forest-hyperopt'\n",
      "'_artifact_location' -> '/home/dpaez/freelance/mlops-datatalksclub/mlops-zoomcamp/02-experiment-tracking/homework/artifacts/2'\n",
      "'_lifecycle_stage' -> 'active'\n",
      "'_tags' -> '{}'\n",
      "'_creation_time' -> '1716673242388'\n",
      "'_last_update_time' -> '1716673242388'\n"
     ]
    }
   ],
   "source": [
    "# Experiment attributes\n",
    "for key, value in experiment.__dict__.items():\n",
    "    print(f\"'{key}' -> '{value}'\")"
   ]
  },
  {
   "cell_type": "code",
   "execution_count": 46,
   "metadata": {},
   "outputs": [],
   "source": [
    "top_n = 5\n",
    "\n",
    "runs = client.search_runs(\n",
    "    experiment_ids=experiment.experiment_id,\n",
    "    run_view_type=ViewType.ACTIVE_ONLY,\n",
    "    max_results=top_n,\n",
    "    order_by=[\"metrics.rmse ASC\"]\n",
    ")"
   ]
  },
  {
   "cell_type": "code",
   "execution_count": 49,
   "metadata": {},
   "outputs": [
    {
     "name": "stdout",
     "output_type": "stream",
     "text": [
      "'_info' -> '<RunInfo: artifact_uri='/home/dpaez/freelance/mlops-datatalksclub/mlops-zoomcamp/02-experiment-tracking/homework/artifacts/2/b4e71f99c1f5474e9820bcdddf5d696c/artifacts', end_time=1716673346661, experiment_id='2', lifecycle_stage='active', run_id='b4e71f99c1f5474e9820bcdddf5d696c', run_name='luminous-bat-877', run_uuid='b4e71f99c1f5474e9820bcdddf5d696c', start_time=1716673339457, status='FINISHED', user_id='dpaez'>'\n",
      "'_data' -> '<RunData: metrics={'rmse': 5.335419588556921}, params={'max_depth': '19',\n",
      " 'min_samples_leaf': '2',\n",
      " 'min_samples_split': '2',\n",
      " 'n_estimators': '11',\n",
      " 'random_state': '42'}, tags={'mlflow.runName': 'luminous-bat-877',\n",
      " 'mlflow.source.git.commit': 'd45f2842655eb720b9d8aeba8e07ff1e037d3f55',\n",
      " 'mlflow.source.name': 'hpo.py',\n",
      " 'mlflow.source.type': 'LOCAL',\n",
      " 'mlflow.user': 'dpaez',\n",
      " 'model': 'RandomForestRegressor'}>'\n",
      "'_inputs' -> '<RunInputs: dataset_inputs=[]>'\n",
      "'_info' -> '<RunInfo: artifact_uri='/home/dpaez/freelance/mlops-datatalksclub/mlops-zoomcamp/02-experiment-tracking/homework/artifacts/2/6906b6807b6d4f79a6bdc4db3a247b6b/artifacts', end_time=1716673297516, experiment_id='2', lifecycle_stage='active', run_id='6906b6807b6d4f79a6bdc4db3a247b6b', run_name='delicate-lark-721', run_uuid='6906b6807b6d4f79a6bdc4db3a247b6b', start_time=1716673279209, status='FINISHED', user_id='dpaez'>'\n",
      "'_data' -> '<RunData: metrics={'rmse': 5.354695072530291}, params={'max_depth': '15',\n",
      " 'min_samples_leaf': '2',\n",
      " 'min_samples_split': '3',\n",
      " 'n_estimators': '40',\n",
      " 'random_state': '42'}, tags={'mlflow.runName': 'delicate-lark-721',\n",
      " 'mlflow.source.git.commit': 'd45f2842655eb720b9d8aeba8e07ff1e037d3f55',\n",
      " 'mlflow.source.name': 'hpo.py',\n",
      " 'mlflow.source.type': 'LOCAL',\n",
      " 'mlflow.user': 'dpaez',\n",
      " 'model': 'RandomForestRegressor'}>'\n",
      "'_inputs' -> '<RunInputs: dataset_inputs=[]>'\n",
      "'_info' -> '<RunInfo: artifact_uri='/home/dpaez/freelance/mlops-datatalksclub/mlops-zoomcamp/02-experiment-tracking/homework/artifacts/2/2a4a41b761814a95a620fe7bad58f04f/artifacts', end_time=1716673372309, experiment_id='2', lifecycle_stage='active', run_id='2a4a41b761814a95a620fe7bad58f04f', run_name='powerful-perch-390', run_uuid='2a4a41b761814a95a620fe7bad58f04f', start_time=1716673361988, status='FINISHED', user_id='dpaez'>'\n",
      "'_data' -> '<RunData: metrics={'rmse': 5.355041749098929}, params={'max_depth': '20',\n",
      " 'min_samples_leaf': '1',\n",
      " 'min_samples_split': '9',\n",
      " 'n_estimators': '19',\n",
      " 'random_state': '42'}, tags={'mlflow.runName': 'powerful-perch-390',\n",
      " 'mlflow.source.git.commit': 'd45f2842655eb720b9d8aeba8e07ff1e037d3f55',\n",
      " 'mlflow.source.name': 'hpo.py',\n",
      " 'mlflow.source.type': 'LOCAL',\n",
      " 'mlflow.user': 'dpaez',\n",
      " 'model': 'RandomForestRegressor'}>'\n",
      "'_inputs' -> '<RunInputs: dataset_inputs=[]>'\n",
      "'_info' -> '<RunInfo: artifact_uri='/home/dpaez/freelance/mlops-datatalksclub/mlops-zoomcamp/02-experiment-tracking/homework/artifacts/2/da83644f383f4b499af407e55e1be176/artifacts', end_time=1716673273622, experiment_id='2', lifecycle_stage='active', run_id='da83644f383f4b499af407e55e1be176', run_name='rebellious-mare-874', run_uuid='da83644f383f4b499af407e55e1be176', start_time=1716673262876, status='FINISHED', user_id='dpaez'>'\n",
      "'_data' -> '<RunData: metrics={'rmse': 5.357490752366866}, params={'max_depth': '14',\n",
      " 'min_samples_leaf': '3',\n",
      " 'min_samples_split': '4',\n",
      " 'n_estimators': '26',\n",
      " 'random_state': '42'}, tags={'mlflow.runName': 'rebellious-mare-874',\n",
      " 'mlflow.source.git.commit': 'd45f2842655eb720b9d8aeba8e07ff1e037d3f55',\n",
      " 'mlflow.source.name': 'hpo.py',\n",
      " 'mlflow.source.type': 'LOCAL',\n",
      " 'mlflow.user': 'dpaez',\n",
      " 'model': 'RandomForestRegressor'}>'\n",
      "'_inputs' -> '<RunInputs: dataset_inputs=[]>'\n",
      "'_info' -> '<RunInfo: artifact_uri='/home/dpaez/freelance/mlops-datatalksclub/mlops-zoomcamp/02-experiment-tracking/homework/artifacts/2/7a1b10b12ef84bcfb1be2746e5a1ac7e/artifacts', end_time=1716673339412, experiment_id='2', lifecycle_stage='active', run_id='7a1b10b12ef84bcfb1be2746e5a1ac7e', run_name='magnificent-shad-184', run_uuid='7a1b10b12ef84bcfb1be2746e5a1ac7e', start_time=1716673329945, status='FINISHED', user_id='dpaez'>'\n",
      "'_data' -> '<RunData: metrics={'rmse': 5.3633599989832135}, params={'max_depth': '14',\n",
      " 'min_samples_leaf': '2',\n",
      " 'min_samples_split': '6',\n",
      " 'n_estimators': '23',\n",
      " 'random_state': '42'}, tags={'mlflow.runName': 'magnificent-shad-184',\n",
      " 'mlflow.source.git.commit': 'd45f2842655eb720b9d8aeba8e07ff1e037d3f55',\n",
      " 'mlflow.source.name': 'hpo.py',\n",
      " 'mlflow.source.type': 'LOCAL',\n",
      " 'mlflow.user': 'dpaez',\n",
      " 'model': 'RandomForestRegressor'}>'\n",
      "'_inputs' -> '<RunInputs: dataset_inputs=[]>'\n"
     ]
    }
   ],
   "source": [
    "# Runs attributes\n",
    "for run in runs:\n",
    "    for key, value in run.__dict__.items():\n",
    "        print(f\"'{key}' -> '{value}'\")"
   ]
  },
  {
   "cell_type": "markdown",
   "metadata": {},
   "source": [
    "Run `register_model.py` updated script to test best models and promote best of them to model registry"
   ]
  },
  {
   "cell_type": "code",
   "execution_count": 51,
   "metadata": {},
   "outputs": [
    {
     "name": "stdout",
     "output_type": "stream",
     "text": [
      "2024/05/25 19:03:19 INFO mlflow.tracking.fluent: Experiment with name 'random-forest-best-models' does not exist. Creating a new experiment.\n",
      "2024/05/25 19:03:21 WARNING mlflow.sklearn: Failed to log training dataset information to MLflow Tracking. Reason: 'numpy.ndarray' object has no attribute 'toarray'\n",
      "2024/05/25 19:03:34 WARNING mlflow.utils.autologging_utils: MLflow autologging encountered a warning: \"/home/dpaez/.cache/pypoetry/virtualenvs/mlops-zoomcamp-4tChsL49-py3.9/lib/python3.9/site-packages/_distutils_hack/__init__.py:26: UserWarning: Setuptools is replacing distutils.\"\n",
      "/home/dpaez/.cache/pypoetry/virtualenvs/mlops-zoomcamp-4tChsL49-py3.9/lib/python3.9/site-packages/sklearn/metrics/_regression.py:483: FutureWarning: 'squared' is deprecated in version 1.4 and will be removed in 1.6. To calculate the root mean squared error, use the function'root_mean_squared_error'.\n",
      "  warnings.warn(\n",
      "/home/dpaez/.cache/pypoetry/virtualenvs/mlops-zoomcamp-4tChsL49-py3.9/lib/python3.9/site-packages/sklearn/metrics/_regression.py:483: FutureWarning: 'squared' is deprecated in version 1.4 and will be removed in 1.6. To calculate the root mean squared error, use the function'root_mean_squared_error'.\n",
      "  warnings.warn(\n",
      "2024/05/25 19:03:41 WARNING mlflow.sklearn: Failed to log training dataset information to MLflow Tracking. Reason: 'numpy.ndarray' object has no attribute 'toarray'\n",
      "/home/dpaez/.cache/pypoetry/virtualenvs/mlops-zoomcamp-4tChsL49-py3.9/lib/python3.9/site-packages/sklearn/metrics/_regression.py:483: FutureWarning: 'squared' is deprecated in version 1.4 and will be removed in 1.6. To calculate the root mean squared error, use the function'root_mean_squared_error'.\n",
      "  warnings.warn(\n",
      "/home/dpaez/.cache/pypoetry/virtualenvs/mlops-zoomcamp-4tChsL49-py3.9/lib/python3.9/site-packages/sklearn/metrics/_regression.py:483: FutureWarning: 'squared' is deprecated in version 1.4 and will be removed in 1.6. To calculate the root mean squared error, use the function'root_mean_squared_error'.\n",
      "  warnings.warn(\n",
      "2024/05/25 19:04:12 WARNING mlflow.sklearn: Failed to log training dataset information to MLflow Tracking. Reason: 'numpy.ndarray' object has no attribute 'toarray'\n",
      "/home/dpaez/.cache/pypoetry/virtualenvs/mlops-zoomcamp-4tChsL49-py3.9/lib/python3.9/site-packages/sklearn/metrics/_regression.py:483: FutureWarning: 'squared' is deprecated in version 1.4 and will be removed in 1.6. To calculate the root mean squared error, use the function'root_mean_squared_error'.\n",
      "  warnings.warn(\n",
      "/home/dpaez/.cache/pypoetry/virtualenvs/mlops-zoomcamp-4tChsL49-py3.9/lib/python3.9/site-packages/sklearn/metrics/_regression.py:483: FutureWarning: 'squared' is deprecated in version 1.4 and will be removed in 1.6. To calculate the root mean squared error, use the function'root_mean_squared_error'.\n",
      "  warnings.warn(\n",
      "2024/05/25 19:04:33 WARNING mlflow.sklearn: Failed to log training dataset information to MLflow Tracking. Reason: 'numpy.ndarray' object has no attribute 'toarray'\n",
      "/home/dpaez/.cache/pypoetry/virtualenvs/mlops-zoomcamp-4tChsL49-py3.9/lib/python3.9/site-packages/sklearn/metrics/_regression.py:483: FutureWarning: 'squared' is deprecated in version 1.4 and will be removed in 1.6. To calculate the root mean squared error, use the function'root_mean_squared_error'.\n",
      "  warnings.warn(\n",
      "/home/dpaez/.cache/pypoetry/virtualenvs/mlops-zoomcamp-4tChsL49-py3.9/lib/python3.9/site-packages/sklearn/metrics/_regression.py:483: FutureWarning: 'squared' is deprecated in version 1.4 and will be removed in 1.6. To calculate the root mean squared error, use the function'root_mean_squared_error'.\n",
      "  warnings.warn(\n",
      "2024/05/25 19:04:55 WARNING mlflow.sklearn: Failed to log training dataset information to MLflow Tracking. Reason: 'numpy.ndarray' object has no attribute 'toarray'\n",
      "/home/dpaez/.cache/pypoetry/virtualenvs/mlops-zoomcamp-4tChsL49-py3.9/lib/python3.9/site-packages/sklearn/metrics/_regression.py:483: FutureWarning: 'squared' is deprecated in version 1.4 and will be removed in 1.6. To calculate the root mean squared error, use the function'root_mean_squared_error'.\n",
      "  warnings.warn(\n",
      "/home/dpaez/.cache/pypoetry/virtualenvs/mlops-zoomcamp-4tChsL49-py3.9/lib/python3.9/site-packages/sklearn/metrics/_regression.py:483: FutureWarning: 'squared' is deprecated in version 1.4 and will be removed in 1.6. To calculate the root mean squared error, use the function'root_mean_squared_error'.\n",
      "  warnings.warn(\n",
      "Successfully registered model 'random-forest-champion'.\n",
      "2024/05/25 19:05:15 INFO mlflow.store.model_registry.abstract_store: Waiting up to 300 seconds for model version to finish creation. Model name: random-forest-champion, version 1\n",
      "Created version '1' of model 'random-forest-champion'.\n"
     ]
    }
   ],
   "source": [
    "!python3 register_model.py --data_path $processed_data_folder"
   ]
  },
  {
   "cell_type": "code",
   "execution_count": 55,
   "metadata": {},
   "outputs": [
    {
     "data": {
      "text/plain": [
       "<RegisteredModel: aliases={}, creation_timestamp=1716674715121, description='', last_updated_timestamp=1716674715244, latest_versions=[<ModelVersion: aliases=[], creation_timestamp=1716674715244, current_stage='None', description='', last_updated_timestamp=1716674715244, name='random-forest-champion', run_id='0018f06784a142018e890bb1a6f5a953', run_link='', source='/home/dpaez/freelance/mlops-datatalksclub/mlops-zoomcamp/02-experiment-tracking/homework/artifacts/3/0018f06784a142018e890bb1a6f5a953/artifacts/model', status='READY', status_message='', tags={}, user_id='', version='1'>], name='random-forest-champion', tags={}>"
      ]
     },
     "execution_count": 55,
     "metadata": {},
     "output_type": "execute_result"
    }
   ],
   "source": [
    "# Retrieve registered model\n",
    "model_name = 'random-forest-champion'\n",
    "registered_model = client.get_registered_model('random-forest-champion')\n",
    "registered_model"
   ]
  },
  {
   "cell_type": "code",
   "execution_count": 64,
   "metadata": {},
   "outputs": [],
   "source": [
    "# Get info about latest registered model in model name = 'random-forest-champion'\n",
    "latest_version = registered_model._latest_version\n",
    "\n",
    "# Get metrics\n",
    "champion_model_run = client.get_run(latest_version[0].run_id)\n",
    "best_test_rmse = champion_model_run.data.metrics[\"test_rmse\"]"
   ]
  },
  {
   "cell_type": "code",
   "execution_count": 66,
   "metadata": {},
   "outputs": [
    {
     "name": "stdout",
     "output_type": "stream",
     "text": [
      "The test RMSE of the best model is: 5.567\n"
     ]
    }
   ],
   "source": [
    "print(f\"The test RMSE of the best model is: {best_test_rmse:.3f}\")"
   ]
  }
 ],
 "metadata": {
  "kernelspec": {
   "display_name": "mlops-zoomcamp-4tChsL49-py3.9",
   "language": "python",
   "name": "python3"
  },
  "language_info": {
   "codemirror_mode": {
    "name": "ipython",
    "version": 3
   },
   "file_extension": ".py",
   "mimetype": "text/x-python",
   "name": "python",
   "nbconvert_exporter": "python",
   "pygments_lexer": "ipython3",
   "version": "3.9.17"
  }
 },
 "nbformat": 4,
 "nbformat_minor": 2
}
